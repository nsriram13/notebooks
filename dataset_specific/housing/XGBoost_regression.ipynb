{
 "cells": [
  {
   "cell_type": "markdown",
   "metadata": {},
   "source": [
    "# Kaggle: House Prices\n",
    "\n",
    "https://www.kaggle.com/c/house-prices-advanced-regression-techniques\n",
    "\n",
    "## XGBoost Regression\n",
    "\n",
    "* XGBoost model with hyperparameter tuning.\n",
    "* Log-transform of dependent variable."
   ]
  },
  {
   "cell_type": "code",
   "execution_count": 1,
   "metadata": {
    "collapsed": true
   },
   "outputs": [],
   "source": [
    "import warnings\n",
    "import json\n",
    "import copy\n",
    "import numpy as np\n",
    "import pandas as pd\n",
    "\n",
    "from IPython.display import display, HTML\n",
    "import matplotlib.pyplot as plt\n",
    "import seaborn as sns\n",
    "\n",
    "sns.set_style('darkgrid')\n",
    "%matplotlib inline\n",
    "warnings.filterwarnings('ignore')\n",
    "np.random.seed(42)"
   ]
  },
  {
   "cell_type": "code",
   "execution_count": 2,
   "metadata": {
    "collapsed": true
   },
   "outputs": [],
   "source": [
    "import preprocess"
   ]
  },
  {
   "cell_type": "code",
   "execution_count": 3,
   "metadata": {},
   "outputs": [
    {
     "name": "stdout",
     "output_type": "stream",
     "text": [
      "Columns {'Heating_OthW', 'RoofMatl_ClyTile', 'RoofMatl_Membran', 'RoofMatl_Metal', 'Electrical_Mix', 'HouseStyle_2.5Fin', 'MiscFeature_TenC', 'RoofMatl_Roll', 'ExteriorOther', 'Heating_Floor'} are missing, adding them.\n"
     ]
    }
   ],
   "source": [
    "df_train = pd.read_csv('./data/train.csv')\n",
    "df_train = preprocess.preprocess(df_train)\n",
    "\n",
    "features = list(df_train.columns)\n",
    "features.remove('SalePrice')\n",
    "features.remove('Id')\n",
    "\n",
    "df_test = pd.read_csv('./data/test.csv')\n",
    "df_test = preprocess.preprocess(df_test, columns_needed=features)"
   ]
  },
  {
   "cell_type": "code",
   "execution_count": 4,
   "metadata": {},
   "outputs": [
    {
     "name": "stdout",
     "output_type": "stream",
     "text": [
      "y_train:  (1460, 1)\n",
      "x_train:  (1460, 250)\n"
     ]
    }
   ],
   "source": [
    "import xgboost as xgb\n",
    "\n",
    "# Log transform variable (this will ensure that final output will always be positive.)\n",
    "y_train = np.log(df_train['SalePrice']).values.reshape(-1, 1)\n",
    "print('y_train: ', y_train.shape)\n",
    "\n",
    "x_train = df_train[features].values\n",
    "print('x_train: ', x_train.shape)\n",
    "\n",
    "dtrain = xgb.DMatrix(x_train, label=y_train, feature_names=features)\n",
    "dtest = xgb.DMatrix(x_train, label=y_train)"
   ]
  },
  {
   "cell_type": "code",
   "execution_count": 5,
   "metadata": {},
   "outputs": [
    {
     "name": "stdout",
     "output_type": "stream",
     "text": [
      "\n",
      "Testing 6 combinations for ['eta']\n",
      "New best error found: 0.1384968\n",
      "New best error found: 0.134949\n",
      "New best error found: 0.13437159999999998\n",
      "New best error found: 0.1333582\n",
      "Min_error: 0.1333582 for {'eta': 0.1}\n",
      "\n",
      "Testing 28 combinations for ['max_depth', 'min_child_weight']\n",
      "New best error found: 0.13288819999999998\n",
      "New best error found: 0.132095\n",
      "New best error found: 0.13200399999999998\n",
      "New best error found: 0.1312376\n",
      "Min_error: 0.1312376 for {'max_depth': 3, 'min_child_weight': 3}\n",
      "\n",
      "Testing 6 combinations for ['subsample']\n",
      "New best error found: 0.1308102\n",
      "New best error found: 0.12963940000000002\n",
      "Min_error: 0.12963940000000002 for {'subsample': 0.9}\n",
      "\n",
      "Testing 5 combinations for ['colsample_bytree']\n",
      "New best error found: 0.1295778\n",
      "Min_error: 0.1295778 for {'colsample_bytree': 0.7}\n",
      "\n",
      "Testing 6 combinations for ['gamma']\n",
      "Min_error: 0.1295778 for None\n",
      "\n",
      "Testing 8 combinations for ['lambda']\n",
      "New best error found: 0.1288088\n",
      "New best error found: 0.1259736\n",
      "Min_error: 0.1259736 for {'lambda': 10}\n",
      "\n",
      "Testing 6 combinations for ['alpha']\n",
      "Min_error: 0.1259736 for None\n",
      "Best params:  {\n",
      "    \"alpha\": 0,\n",
      "    \"colsample_bytree\": 0.7,\n",
      "    \"eta\": 0.1,\n",
      "    \"eval_metric\": \"rmse\",\n",
      "    \"gamma\": 0,\n",
      "    \"lambda\": 10,\n",
      "    \"max_depth\": 3,\n",
      "    \"min_child_weight\": 3,\n",
      "    \"objective\": \"reg:linear\",\n",
      "    \"subsample\": 0.9\n",
      "}\n"
     ]
    }
   ],
   "source": [
    "# Hyperparameter turning with cross-validation\n",
    "from sklearn.model_selection import ParameterGrid\n",
    "\n",
    "num_boost_round = 999\n",
    "early_stopping_rounds = 25\n",
    "\n",
    "# XGBoost parameters explained: https://github.com/dmlc/xgboost/blob/master/doc/parameter.md\n",
    "params = {\n",
    "    # Parameters to tune\n",
    "    'max_depth': 2,  # Maximum depth of a tree\n",
    "    'min_child_weight': 1,  # Minimum number of instances needed to be in each node\n",
    "    'eta': .2,  # Learning_rate (shrinks the feature weights to make the boosting process more conservative)\n",
    "    'subsample': 1,  # Subsample ratio of the training instance\n",
    "    'colsample_bytree': 1,  # Subsample ratio of columns\n",
    "    'lambda': 0,  # L2 regularization term\n",
    "    'alpha': 0,  # L1 regularization term\n",
    "    'gamma': 0,  # Minimum loss reduction required to make a further partition\n",
    "    # Other params\n",
    "    'objective': 'reg:linear',\n",
    "    'eval_metric': 'rmse'\n",
    "}\n",
    "\n",
    "# Search parameters for hyperparameter tuning\n",
    "param_searches = [\n",
    "    {'eta': [.3, .2, .15, .1, .05, .01]},\n",
    "    {'max_depth': [1, 2, 3, 5], 'min_child_weight': [0, 0.1, 0.5, 1, 2, 3, 5]},\n",
    "    {'subsample': [0.7, 0.8, 0.9, 0.95, 0.99, 1.]},\n",
    "    {'colsample_bytree': [0.7, 0.8, 0.9, 0.95, 1.]},\n",
    "    {'gamma': [0.0, 0.1, 0.2, 0.3, 0.5, 1.]},\n",
    "    {'lambda': [0.0, 1e-5, 1e-2, 0.1, 1, 10, 100, 1000]},\n",
    "    {'alpha': [0.0, 1e-5, 1e-2, 0.1, 1, 100]}\n",
    "]\n",
    "\n",
    "# Perform hyperparameter tuning\n",
    "best_params = copy.deepcopy(params)\n",
    "min_error = float('Inf')\n",
    "for psearch in param_searches:\n",
    "    p_best = None\n",
    "    p_combinations = list(ParameterGrid(psearch))\n",
    "    print('\\nTesting {} combinations for {}'.format(len(p_combinations), list(p_combinations[0].keys())))\n",
    "    for p_new in p_combinations:\n",
    "        # Update training params\n",
    "        params.update(p_new)\n",
    "        # Run CV\n",
    "        cv_results = xgb.cv(\n",
    "            params,\n",
    "            dtrain,\n",
    "            num_boost_round=num_boost_round,\n",
    "            seed=42,\n",
    "            nfold=5,\n",
    "            metrics={'rmse'},\n",
    "            early_stopping_rounds=early_stopping_rounds\n",
    "        )\n",
    "        new_error = cv_results['test-rmse-mean'].min()\n",
    "        if new_error < min_error:\n",
    "            min_error = new_error\n",
    "            print('New best error found: {}'.format(min_error))\n",
    "            best_params.update(p_new)\n",
    "            p_best = p_new\n",
    "    params.update(best_params)\n",
    "    print('Min_error: {} for {}'.format(min_error, p_best))\n",
    "\n",
    "params.update(best_params)\n",
    "print('Best params: ', json.dumps(params, indent=4, sort_keys=True))"
   ]
  },
  {
   "cell_type": "code",
   "execution_count": 6,
   "metadata": {},
   "outputs": [
    {
     "name": "stdout",
     "output_type": "stream",
     "text": [
      "Best rmse error:  0.1259736\n",
      "Best number of boost_rounds:  287\n"
     ]
    }
   ],
   "source": [
    "# Find the best possible number of iterations and train final model\n",
    "\n",
    "# Find best number of iterations\n",
    "cv_results = xgb.cv(\n",
    "    params,\n",
    "    dtrain,\n",
    "    num_boost_round=num_boost_round,\n",
    "    seed=42,\n",
    "    nfold=5,\n",
    "    metrics={'rmse'},\n",
    "    early_stopping_rounds=early_stopping_rounds\n",
    ")\n",
    "print('Best rmse error: ', cv_results['test-rmse-mean'].min())\n",
    "boost_rounds = cv_results['test-rmse-mean'].argmin()\n",
    "print('Best number of boost_rounds: ', boost_rounds)\n",
    "\n",
    "# Train final model\n",
    "model = xgb.train(\n",
    "    params=params, \n",
    "    dtrain=dtrain, \n",
    "    num_boost_round=boost_rounds\n",
    ")"
   ]
  },
  {
   "cell_type": "code",
   "execution_count": 7,
   "metadata": {},
   "outputs": [
    {
     "data": {
      "image/png": "[encoded data removed]",
      "text/plain": [
       "<matplotlib.figure.Figure at 0x1a167d3198>"
      ]
     },
     "metadata": {},
     "output_type": "display_data"
    }
   ],
   "source": [
    "# Show feature importances\n",
    "fig = plt.figure(figsize=(10, 8))\n",
    "ax = fig.add_subplot(111)\n",
    "xgb.plot_importance(model, ax=ax, max_num_features=30)\n",
    "plt.show()"
   ]
  },
  {
   "cell_type": "code",
   "execution_count": 8,
   "metadata": {},
   "outputs": [
    {
     "name": "stdout",
     "output_type": "stream",
     "text": [
      "y_train_pred:  (1460,)\n",
      "Mean squared error: 178745741.4563981\n",
      "Variance score: 0.9716581998845458\n"
     ]
    },
    {
     "data": {
      "image/png": "[encoded data removed]",
      "text/plain": [
       "<matplotlib.figure.Figure at 0x1a167d3710>"
      ]
     },
     "metadata": {},
     "output_type": "display_data"
    }
   ],
   "source": [
    "# Predictions from train set\n",
    "from sklearn.metrics import mean_squared_error, r2_score\n",
    "\n",
    "y_train_pred = np.exp(model.predict(dtrain))\n",
    "print('y_train_pred: ', y_train_pred.shape)\n",
    "\n",
    "print('Mean squared error: {}'.format(mean_squared_error(df_train['SalePrice'], y_train_pred)))\n",
    "print('Variance score: {}'.format(r2_score(df_train['SalePrice'], y_train_pred)))\n",
    "\n",
    "\n",
    "# Plot predictions\n",
    "plt.figure(figsize=(10, 4))\n",
    "plt.scatter(df_train['SalePrice'], y_train_pred)\n",
    "plt.title('XGBoost')\n",
    "plt.xlabel('Real values')\n",
    "plt.ylabel('Predicted values')\n",
    "plt.show()"
   ]
  },
  {
   "cell_type": "code",
   "execution_count": 9,
   "metadata": {},
   "outputs": [
    {
     "name": "stdout",
     "output_type": "stream",
     "text": [
      "x_test:  (1459, 250)\n",
      "y_test_pred:  (1459,)\n",
      "0 values above 800k\n"
     ]
    },
    {
     "data": {
      "text/html": [
       "<div>\n",
       "<style>\n",
       "    .dataframe thead tr:only-child th {\n",
       "        text-align: right;\n",
       "    }\n",
       "\n",
       "    .dataframe thead th {\n",
       "        text-align: left;\n",
       "    }\n",
       "\n",
       "    .dataframe tbody tr th {\n",
       "        vertical-align: top;\n",
       "    }\n",
       "</style>\n",
       "<table border=\"1\" class=\"dataframe\">\n",
       "  <thead>\n",
       "    <tr style=\"text-align: right;\">\n",
       "      <th></th>\n",
       "      <th>Id</th>\n",
       "      <th>SalePrice</th>\n",
       "    </tr>\n",
       "  </thead>\n",
       "  <tbody>\n",
       "    <tr>\n",
       "      <th>0</th>\n",
       "      <td>1461</td>\n",
       "      <td>119849.796875</td>\n",
       "    </tr>\n",
       "    <tr>\n",
       "      <th>...</th>\n",
       "      <td>...</td>\n",
       "      <td>...</td>\n",
       "    </tr>\n",
       "    <tr>\n",
       "      <th>1458</th>\n",
       "      <td>2919</td>\n",
       "      <td>227276.875000</td>\n",
       "    </tr>\n",
       "  </tbody>\n",
       "</table>\n",
       "<p>1459 rows × 2 columns</p>\n",
       "</div>"
      ],
      "text/plain": [
       "        Id      SalePrice\n",
       "0     1461  119849.796875\n",
       "...    ...            ...\n",
       "1458  2919  227276.875000\n",
       "\n",
       "[1459 rows x 2 columns]"
      ]
     },
     "metadata": {},
     "output_type": "display_data"
    },
    {
     "data": {
      "image/png": "[encoded data removed]",
      "text/plain": [
       "<matplotlib.figure.Figure at 0x1a168abc18>"
      ]
     },
     "metadata": {},
     "output_type": "display_data"
    }
   ],
   "source": [
    "# Make predictions on test set and save the results\n",
    "# This gets an error of 0.12647 on the leaderboard. \n",
    "x_test = df_test[features].values\n",
    "print('x_test: ', x_test.shape)\n",
    "\n",
    "dtest = xgb.DMatrix(x_test, feature_names=features)\n",
    "\n",
    "y_test_pred = np.exp(model.predict(dtest))\n",
    "print('y_test_pred: ', y_test_pred.shape)\n",
    "\n",
    "# Test for negative and infinity values:\n",
    "assert (y_test_pred >= 0).all()\n",
    "assert not np.isinf(y_test_pred).any(), '{} infinity values '.format(sum(np.isinf(y_test_pred)))\n",
    "print('{} values above 800k'.format(sum(y_test_pred >= 800000)))\n",
    "\n",
    "df_test_predict = df_test[['Id']]\n",
    "df_test_predict['SalePrice'] = np.squeeze(y_test_pred)\n",
    "assert df_test_predict.notnull().all().all()\n",
    "\n",
    "with pd.option_context('display.max_rows', 3, 'display.max_columns', 2):\n",
    "    display(df_test_predict)\n",
    "    \n",
    "df_test_predict.to_csv('output_xgboost.csv', index=False)\n",
    "\n",
    "sns.distplot(np.squeeze(y_test_pred), hist=True, kde=False, norm_hist=False)\n",
    "plt.title('Test predicted SalePrice histogram')\n",
    "plt.ylabel('Count')\n",
    "plt.show()"
   ]
  }
 ],
 "metadata": {
  "kernelspec": {
   "display_name": "Python 3",
   "language": "python",
   "name": "python3"
  },
  "language_info": {
   "codemirror_mode": {
    "name": "ipython",
    "version": 3
   },
   "file_extension": ".py",
   "mimetype": "text/x-python",
   "name": "python",
   "nbconvert_exporter": "python",
   "pygments_lexer": "ipython3",
   "version": "3.6.3"
  }
 },
 "nbformat": 4,
 "nbformat_minor": 2
}
