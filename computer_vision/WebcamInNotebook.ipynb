{
 "cells": [
  {
   "cell_type": "markdown",
   "metadata": {},
   "source": [
    "# Show webcam feed in notebook\n",
    "\n",
    "Use OpenCV to read webcam feed, use ipywidgets to display videostream."
   ]
  },
  {
   "cell_type": "code",
   "execution_count": null,
   "metadata": {},
   "outputs": [],
   "source": [
    "import time\n",
    "import cv2\n",
    "import threading\n",
    "from ipywidgets import widgets\n",
    "from IPython.display import display"
   ]
  },
  {
   "cell_type": "code",
   "execution_count": null,
   "metadata": {},
   "outputs": [],
   "source": [
    "class WebcamThread(threading.Thread):\n",
    "    \"\"\"\n",
    "    Thread to read frame by frame from webcam stream and update the\n",
    "     interactive image widget.\n",
    "    \"\"\"\n",
    "    def __init__(self, interactive_img):\n",
    "        \"\"\"\n",
    "        Create thread.\n",
    "        \n",
    "        Args:\n",
    "            interactive_img (Widget): Interactive widget to display image\n",
    "        \"\"\"\n",
    "        super(WebcamThread, self).__init__()\n",
    "        self._stop_event = threading.Event()\n",
    "        self.interactive_img = interactive_img\n",
    "        self.camera = cv2.VideoCapture(0)\n",
    "\n",
    "    def stop(self):\n",
    "        \"\"\"\n",
    "        Stop thread.\n",
    "        \"\"\"\n",
    "        self._stop_event.set()\n",
    "\n",
    "    def stopped(self):\n",
    "        \"\"\"\n",
    "        True iff tread is stopped.\n",
    "        \"\"\"\n",
    "        return self._stop_event.is_set()\n",
    "    \n",
    "    def run(self):\n",
    "        \"\"\"\n",
    "        Start thread.\n",
    "        Creates loop that reads frame from webcam and updates interactive image\n",
    "         until thread is stopped.\n",
    "        \"\"\"\n",
    "        is_capturing = self.camera.isOpened()\n",
    "        while is_capturing and not self.stopped():\n",
    "            is_capturing, frame = self.camera.read()\n",
    "            interactive_img.value = cv2.imencode(\n",
    "                '.png', frame)[1].tostring()\n",
    "            time.sleep(0.01)\n",
    "        self.camera.release()"
   ]
  },
  {
   "cell_type": "code",
   "execution_count": null,
   "metadata": {
    "scrolled": false
   },
   "outputs": [],
   "source": [
    "# Create interactive image\n",
    "interactive_img = widgets.Image(\n",
    "    value=b'',\n",
    "    format='png',\n",
    "    width=800,\n",
    "    height=600,\n",
    ")\n",
    "\n",
    "# Create thread to update interactive image with webcam\n",
    "thread = WebcamThread(interactive_img)\n",
    "display(interactive_img)\n",
    "thread.start()\n",
    "\n",
    "# Stop thread upon exit\n",
    "while True:\n",
    "    try:\n",
    "        time.sleep(1)\n",
    "    except:\n",
    "        thread.stop()\n",
    "        thread.join()\n",
    "        break\n",
    "\n",
    "print('Finish')"
   ]
  }
 ],
 "metadata": {
  "kernelspec": {
   "display_name": "Python 3",
   "language": "python",
   "name": "python3"
  },
  "language_info": {
   "codemirror_mode": {
    "name": "ipython",
    "version": 3
   },
   "file_extension": ".py",
   "mimetype": "text/x-python",
   "name": "python",
   "nbconvert_exporter": "python",
   "pygments_lexer": "ipython3",
   "version": "3.6.5"
  }
 },
 "nbformat": 4,
 "nbformat_minor": 2
}
