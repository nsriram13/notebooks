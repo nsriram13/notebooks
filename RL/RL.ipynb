{
 "cells": [
  {
   "cell_type": "markdown",
   "metadata": {},
   "source": [
    "# Reinforcement learning\n",
    "\n",
    "Courses:\n",
    "\n",
    "* http://www0.cs.ucl.ac.uk/staff/d.silver/web/Teaching.html\n",
    "* http://incompleteideas.net/book/the-book-2nd.html\n",
    "\n",
    "Intro:\n",
    "\n",
    "* https://www.oreilly.com/ideas/reinforcement-learning-for-complex-goals-using-tensorflow\n",
    "* https://www.nature.com/articles/nature14540\n",
    "\n",
    "Practical:\n",
    "\n",
    "* https://medium.com/emergent-future/simple-reinforcement-learning-with-tensorflow-part-0-q-learning-with-tables-and-neural-networks-d195264329d0\n",
    "* https://medium.com/@awjuliani/super-simple-reinforcement-learning-tutorial-part-1-fd544fab149\n",
    "* https://amunategui.github.io/reinforcement-learning/index.html\n",
    "* https://blog.coast.ai/using-reinforcement-learning-in-python-to-teach-a-virtual-car-to-avoid-obstacles-6e782cc7d4c6\n",
    "* https://www.oreilly.com/learning/introduction-to-reinforcement-learning-and-openai-gym\n",
    "\n",
    "\n",
    "Misc:\n",
    "\n",
    "* https://thinkingwires.com/posts/2018-02-13-irl-tutorial-1.html\n",
    "* https://www.alexirpan.com/2018/02/14/rl-hard.html\n",
    "* https://github.com/toddsifleet/inverted_pendulum\n",
    "* https://medium.com/mlreview/making-sense-of-the-bias-variance-trade-off-in-deep-reinforcement-learning-79cf1e83d565\n",
    "* http://bair.berkeley.edu/blog/2017/10/06/soft-q-learning/\n"
   ]
  },
  {
   "cell_type": "code",
   "execution_count": null,
   "metadata": {},
   "outputs": [],
   "source": []
  }
 ],
 "metadata": {
  "kernelspec": {
   "display_name": "Python 3",
   "language": "python",
   "name": "python3"
  },
  "language_info": {
   "codemirror_mode": {
    "name": "ipython",
    "version": 3
   },
   "file_extension": ".py",
   "mimetype": "text/x-python",
   "name": "python",
   "nbconvert_exporter": "python",
   "pygments_lexer": "ipython3",
   "version": "3.6.4"
  }
 },
 "nbformat": 4,
 "nbformat_minor": 2
}
