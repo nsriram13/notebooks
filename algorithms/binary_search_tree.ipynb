{
 "cells": [
  {
   "cell_type": "markdown",
   "metadata": {},
   "source": [
    "# Illustrate implementations of binary search tree and red-black tree\n",
    "\n",
    "Implementation are in same folder as this notebook"
   ]
  },
  {
   "cell_type": "code",
   "execution_count": 1,
   "metadata": {},
   "outputs": [],
   "source": [
    "%load_ext autoreload\n",
    "%autoreload 2\n",
    "\n",
    "# Import tree implementations from this folder\n",
    "from binary_search_tree import BST\n",
    "from red_black_tree import RedBlackTree\n",
    "import random"
   ]
  },
  {
   "cell_type": "code",
   "execution_count": 2,
   "metadata": {},
   "outputs": [
    {
     "name": "stdout",
     "output_type": "stream",
     "text": [
      "None\n",
      "{11}\n",
      "{{9}11}\n",
      "{{{1}9}11}\n",
      "{{{1}9}11{17}}\n",
      "{{{1}9}11{{16}17}}\n",
      "{{{1}9}11{{16}17{19}}}\n",
      "{{{1}9}11{{16}17{{18}19}}}\n",
      "{{{1}9}11{{{14}16}17{{18}19}}}\n",
      "min:  1\n",
      "max:  19\n",
      "del:  11  result:  {{{1}9}14{{16}17{{18}19}}}\n",
      "del:  9  result:  {{1}14{{16}17{{18}19}}}\n",
      "del:  1  result:  {14{{16}17{{18}19}}}\n",
      "del:  17  result:  {14{{16}18{19}}}\n",
      "del:  16  result:  {14{18{19}}}\n",
      "del:  19  result:  {14{18}}\n",
      "del:  18  result:  {14}\n",
      "del:  14  result:  None\n"
     ]
    }
   ],
   "source": [
    "tree = BST()\n",
    "print(tree)\n",
    "\n",
    "sample = random.sample(range(1, 20), 8)\n",
    "for x in sample:\n",
    "    tree.put(x)\n",
    "    print(tree)\n",
    "    \n",
    "print('min: ', tree.min())\n",
    "print('max: ', tree.max())\n",
    "\n",
    "# while not tree.root is None:\n",
    "#     tree.delete_min()\n",
    "#     print tree\n",
    "\n",
    "for i in sample:\n",
    "    tree.delete(i)\n",
    "    print('del: ', i , ' result: ', tree)"
   ]
  },
  {
   "cell_type": "code",
   "execution_count": 3,
   "metadata": {},
   "outputs": [
    {
     "name": "stdout",
     "output_type": "stream",
     "text": [
      "None\n",
      "x:  15 tree:  {15}\n",
      "x:  18 tree:  {{15}18}\n",
      "x:  17 tree:  {{15}17{18}}\n",
      "x:  10 tree:  {{10}15{17{18}}}\n",
      "x:  5 tree:  {{5}10{15{17{18}}}}\n",
      "x:  4 tree:  {{4}5{10{15{17{18}}}}}\n",
      "x:  7 tree:  {{4}5{{7}10{15{17{18}}}}}\n",
      "x:  2 tree:  {{2}4{5{{7}10{15{17{18}}}}}}\n",
      "min:  2\n",
      "max:  18\n"
     ]
    }
   ],
   "source": [
    "tree = RedBlackTree()\n",
    "print(tree)\n",
    "\n",
    "sample = random.sample(range(1, 20), 8)\n",
    "for x in sample:\n",
    "    tree.put(x)\n",
    "    print('x: ', x, 'tree: ', tree)\n",
    "    \n",
    "print('min: ', tree.min())\n",
    "print('max: ', tree.max())"
   ]
  }
 ],
 "metadata": {
  "kernelspec": {
   "display_name": "Python 3",
   "language": "python",
   "name": "python3"
  },
  "language_info": {
   "codemirror_mode": {
    "name": "ipython",
    "version": 3
   },
   "file_extension": ".py",
   "mimetype": "text/x-python",
   "name": "python",
   "nbconvert_exporter": "python",
   "pygments_lexer": "ipython3",
   "version": "3.6.4"
  }
 },
 "nbformat": 4,
 "nbformat_minor": 1
}
