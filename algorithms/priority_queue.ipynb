{
 "cells": [
  {
   "cell_type": "markdown",
   "metadata": {},
   "source": [
    "# Illustrate implementation of priority queue\n",
    "\n",
    "Implementation is in python file in the same folder as this notebook."
   ]
  },
  {
   "cell_type": "code",
   "execution_count": 1,
   "metadata": {},
   "outputs": [],
   "source": [
    "%load_ext autoreload\n",
    "%autoreload 2\n",
    "\n",
    "from priority_queue import BinaryHeap\n",
    "import random"
   ]
  },
  {
   "cell_type": "code",
   "execution_count": 2,
   "metadata": {},
   "outputs": [
    {
     "name": "stdout",
     "output_type": "stream",
     "text": [
      "13 [None, 13]\n",
      "13 [None, 13, 8]\n",
      "13 [None, 13, 8, 2]\n",
      "19 [None, 19, 13, 2, 8]\n",
      "19 [None, 19, 13, 2, 8, 12]\n",
      "19 [None, 19, 13, 11, 8, 12, 2]\n",
      "19 [None, 19, 13, 11, 8, 12, 2, 7]\n",
      "19 [None, 19, 15, 11, 13, 12, 2, 7, 8]\n",
      "\n",
      "start emptying the heap\n",
      "19 [None, 15, 13, 11, 8, 12, 2, 7]\n",
      "15 [None, 13, 12, 11, 8, 7, 2]\n",
      "13 [None, 12, 8, 11, 2, 7]\n",
      "12 [None, 11, 8, 7, 2]\n",
      "11 [None, 8, 2, 7]\n",
      "8 [None, 7, 2]\n",
      "7 [None, 2]\n",
      "2 [None]\n"
     ]
    }
   ],
   "source": [
    "pq = BinaryHeap()\n",
    "\n",
    "sample = random.sample(range(1, 20), 8)\n",
    "\n",
    "for s in sample:\n",
    "    pq.insert(s)\n",
    "    print(pq.max(), pq.heap)\n",
    "\n",
    "print('\\nstart emptying the heap')\n",
    "while not pq.is_empty():\n",
    "    m = pq.delete_max()\n",
    "    print(m, pq.heap)"
   ]
  }
 ],
 "metadata": {
  "kernelspec": {
   "display_name": "Python 3",
   "language": "python",
   "name": "python3"
  },
  "language_info": {
   "codemirror_mode": {
    "name": "ipython",
    "version": 3
   },
   "file_extension": ".py",
   "mimetype": "text/x-python",
   "name": "python",
   "nbconvert_exporter": "python",
   "pygments_lexer": "ipython3",
   "version": "3.6.4"
  }
 },
 "nbformat": 4,
 "nbformat_minor": 1
}
