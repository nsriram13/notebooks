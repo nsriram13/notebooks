{
 "cells": [
  {
   "cell_type": "markdown",
   "metadata": {},
   "source": [
    "# Implementation of Quicksort and Binary search"
   ]
  },
  {
   "cell_type": "code",
   "execution_count": 1,
   "metadata": {},
   "outputs": [],
   "source": [
    "import random"
   ]
  },
  {
   "cell_type": "code",
   "execution_count": 2,
   "metadata": {},
   "outputs": [
    {
     "name": "stdout",
     "output_type": "stream",
     "text": [
      "-1\n",
      "[0, 1, 2, 3, 4, 5, 6, 7]\n"
     ]
    }
   ],
   "source": [
    "# Binary search\n",
    "\n",
    "#     0  1  2  3  4  5  6   7\n",
    "ls = [1, 2, 3, 6, 7, 9, 13, 16]\n",
    "\n",
    "def binary_search(elem, ls):\n",
    "    \"\"\"\n",
    "    Search for the given elem in the given list and return the index.\n",
    "    Return -1 is the elem was not found.\n",
    "    \"\"\"\n",
    "    low = 0\n",
    "    high = len(ls)-1\n",
    "    while True:\n",
    "        middle = low + ((high - low) // 2)\n",
    "        if ls[middle] == elem:\n",
    "            return middle\n",
    "        if low == high:\n",
    "            return -1\n",
    "        elif ls[middle] > elem:\n",
    "            high = middle - 1\n",
    "        elif ls[middle] < elem:\n",
    "            low = middle + 1\n",
    "\n",
    "print(binary_search(4, ls))\n",
    "print([binary_search(i, ls) for i in ls])"
   ]
  },
  {
   "cell_type": "code",
   "execution_count": 3,
   "metadata": {},
   "outputs": [
    {
     "name": "stdout",
     "output_type": "stream",
     "text": [
      "[2, 6, 1, 3, 7, 9, 4, 5]\n",
      "[1, 2, 3, 4, 5, 6, 7, 9]\n"
     ]
    }
   ],
   "source": [
    "# Quicksort\n",
    "\n",
    "def quicksort(ls):\n",
    "    \"\"\"\n",
    "    Sort the given list inplace.\n",
    "    \"\"\"\n",
    "    quicksort_rec(ls, 0, len(ls)-1)\n",
    "\n",
    "def quicksort_rec(ls, start, stop):\n",
    "    \"\"\"\n",
    "    Sort the given list between start and stop inplace\n",
    "    \"\"\"\n",
    "    if start >= stop:\n",
    "        return\n",
    "    else:\n",
    "        # partition\n",
    "        part_idx = partition(ls, start, stop)\n",
    "        # sort left and right\n",
    "        quicksort_rec(ls, start, part_idx)\n",
    "        quicksort_rec(ls, part_idx+1, stop)\n",
    "    \n",
    "def partition(ls, start, stop):\n",
    "    \"\"\"\n",
    "    parition the given list between start and stop, so that all elements smaller \n",
    "    than ls[start] are to the left of ls[start] and all bigger are to the right \n",
    "    of ls[start].\n",
    "    Return the partition index\n",
    "    \"\"\"\n",
    "    part_elem = ls[start]\n",
    "    idx_left = start + 1\n",
    "    idx_right = stop\n",
    "    while idx_left < idx_right:\n",
    "        if ls[idx_left] > part_elem:\n",
    "            if ls[idx_right] > part_elem:\n",
    "                # If the element on the left needs to be moved to the right\n",
    "                # but the right element needs to stay right,\n",
    "                # get the next right element.\n",
    "                idx_right -= 1\n",
    "            else:\n",
    "                # ls[idx_right] <= part_elem\n",
    "                # If the element on the left needs to be moved to the right\n",
    "                # and the right element needs to be moved to the left: swap and update both indices\n",
    "                ls[idx_left], ls[idx_right] = ls[idx_right], ls[idx_left]\n",
    "                idx_left += 1\n",
    "                idx_right -= 1\n",
    "        else:\n",
    "            # ls[idx_left] <= part_elem\n",
    "            # Index on the left is at right place, update index\n",
    "            idx_left += 1\n",
    "    if ls[idx_left] > part_elem:\n",
    "        idx_left -= 1\n",
    "    # move the current elemnt at the previous smaller index to the beginning\n",
    "    ls[start] = ls[idx_left]\n",
    "    ls[idx_left] = part_elem\n",
    "    return idx_left\n",
    "            \n",
    "ls = random.sample(range(1, 10), 8)\n",
    "print(ls)\n",
    "quicksort(ls)\n",
    "print(ls)"
   ]
  }
 ],
 "metadata": {
  "kernelspec": {
   "display_name": "Python 3",
   "language": "python",
   "name": "python3"
  },
  "language_info": {
   "codemirror_mode": {
    "name": "ipython",
    "version": 3
   },
   "file_extension": ".py",
   "mimetype": "text/x-python",
   "name": "python",
   "nbconvert_exporter": "python",
   "pygments_lexer": "ipython3",
   "version": "3.6.4"
  }
 },
 "nbformat": 4,
 "nbformat_minor": 1
}
