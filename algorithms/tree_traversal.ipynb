{
 "cells": [
  {
   "cell_type": "markdown",
   "metadata": {},
   "source": [
    "# Tree traversal algorithms implementations\n",
    "\n",
    "Follow examples from wikipedia: http://en.wikipedia.org/wiki/Tree_traversal"
   ]
  },
  {
   "cell_type": "code",
   "execution_count": 1,
   "metadata": {},
   "outputs": [],
   "source": [
    "%load_ext autoreload\n",
    "%autoreload 2\n",
    "\n",
    "from __future__ import print_function\n",
    "from collections import deque"
   ]
  },
  {
   "cell_type": "code",
   "execution_count": 2,
   "metadata": {},
   "outputs": [],
   "source": [
    "tree = ('F',\n",
    "        ('B',\n",
    "         ('A', None, None),\n",
    "         ('D',\n",
    "          ('C', None, None),\n",
    "          ('E', None, None))),\n",
    "        ('G', \n",
    "         None, \n",
    "         ('I', \n",
    "          ('H', None, None),\n",
    "          None)))"
   ]
  },
  {
   "cell_type": "code",
   "execution_count": 3,
   "metadata": {},
   "outputs": [
    {
     "name": "stdout",
     "output_type": "stream",
     "text": [
      "F, B, A, D, C, E, G, I, H, "
     ]
    }
   ],
   "source": [
    "# Print Pre-order: F, B, A, D, C, E, G, I, H\n",
    "\n",
    "def print_pre_order(tree):\n",
    "    if tree: # if not None\n",
    "        print(tree[0], end=\", \")  # Print current node\n",
    "        print_pre_order(tree[1])  # Print left\n",
    "        print_pre_order(tree[2])  # Print right\n",
    "        \n",
    "print_pre_order(tree)"
   ]
  },
  {
   "cell_type": "code",
   "execution_count": 4,
   "metadata": {},
   "outputs": [
    {
     "name": "stdout",
     "output_type": "stream",
     "text": [
      "A, B, C, D, E, F, G, H, I, "
     ]
    }
   ],
   "source": [
    "# Print In-order: A, B, C, D, E, F, G, H, I\n",
    "\n",
    "def print_in_order(tree):\n",
    "    if tree: # if not None\n",
    "        print_in_order(tree[1])  # Print left\n",
    "        print(tree[0], end=\", \")  # Print current node\n",
    "        print_in_order(tree[2])  # Print right\n",
    "        \n",
    "print_in_order(tree)"
   ]
  },
  {
   "cell_type": "code",
   "execution_count": 5,
   "metadata": {},
   "outputs": [
    {
     "name": "stdout",
     "output_type": "stream",
     "text": [
      "A, C, E, D, B, H, I, G, F, "
     ]
    }
   ],
   "source": [
    "# Print Post-order: A, C, E, D, B, H, I, G, F\n",
    "\n",
    "def print_post_order(tree):\n",
    "    if tree: # if not None\n",
    "        print_post_order(tree[1])  # Print left\n",
    "        print_post_order(tree[2])  # Print right\n",
    "        print(tree[0], end=\", \")  # Print current node\n",
    "        \n",
    "print_post_order(tree)"
   ]
  },
  {
   "cell_type": "code",
   "execution_count": 6,
   "metadata": {},
   "outputs": [
    {
     "name": "stdout",
     "output_type": "stream",
     "text": [
      "F, B, G, A, D, I, C, E, H, "
     ]
    }
   ],
   "source": [
    "# Print Level-order: F, B, G, A, D, I, C, E, H\n",
    "\n",
    "def print_queue(queue):\n",
    "    node = queue.popleft()\n",
    "    if node: # if not None\n",
    "        print(node[0], end=\", \") # print first node in queue\n",
    "        # add rest to queue\n",
    "        queue.append(node[1])\n",
    "        queue.append(node[2])\n",
    "\n",
    "def print_level_order(tree):\n",
    "    queue = deque() # Queue to hold the bread first search\n",
    "    queue.append(tree)\n",
    "    while queue:\n",
    "        print_queue(queue)\n",
    "        \n",
    "print_level_order(tree)"
   ]
  }
 ],
 "metadata": {
  "kernelspec": {
   "display_name": "Python 3",
   "language": "python",
   "name": "python3"
  },
  "language_info": {
   "codemirror_mode": {
    "name": "ipython",
    "version": 3
   },
   "file_extension": ".py",
   "mimetype": "text/x-python",
   "name": "python",
   "nbconvert_exporter": "python",
   "pygments_lexer": "ipython3",
   "version": "3.6.4"
  }
 },
 "nbformat": 4,
 "nbformat_minor": 1
}
